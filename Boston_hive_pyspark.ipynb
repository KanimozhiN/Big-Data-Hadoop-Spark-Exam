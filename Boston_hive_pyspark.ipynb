{
  "nbformat": 4,
  "nbformat_minor": 0,
  "metadata": {
    "colab": {
      "name": "Boston_hive_pyspark.ipynb",
      "provenance": []
    },
    "kernelspec": {
      "name": "python3",
      "display_name": "Python 3"
    },
    "language_info": {
      "name": "python"
    }
  },
  "cells": [
    {
      "cell_type": "markdown",
      "source": [
        "### PROBLEM STATEMENTS"
      ],
      "metadata": {
        "id": "59kot4G-YMDK"
      }
    },
    {
      "cell_type": "markdown",
      "source": [
        "Q.1 Read the given CSV file in a Hive table\n",
        "Perform the following tasks using PySpark\n",
        "Q2. Read the data from Hive table as spark dataframe \n",
        "Q3. Get the correlation between dependent and independent \n",
        "variables\n",
        "\n",
        "Q4. Build a linear regression model to predict house price \n",
        "Q5. Evaluate the Linear Regression model by getting the RMSE \n",
        "and R-squared values"
      ],
      "metadata": {
        "id": "Cx3rKFa_YOYQ"
      }
    },
    {
      "cell_type": "markdown",
      "source": [
        "### IMPORT NECESSARY PACKAGES AND LIBRARIES"
      ],
      "metadata": {
        "id": "L69IQ4RDU2l4"
      }
    },
    {
      "cell_type": "code",
      "execution_count": 4,
      "metadata": {
        "id": "InbuRzYKUtS4"
      },
      "outputs": [],
      "source": [
        "import numpy as np\n",
        "import pandas as pd\n",
        "import pyspark"
      ]
    },
    {
      "cell_type": "code",
      "source": [
        "from pyspark import SparkConf, SparkContext, SQLContext\n",
        "from pyspark.sql import SparkSession\n",
        "from pyspark.sql.functions import udf # @udf(\"integer\") def myfunc(x,y): return x - y\n",
        "from pyspark.sql import functions as F # stddev format_number date_format, dayofyear, when\n",
        "from pyspark.sql.types import StructField, StringType, IntegerType, StructType\n"
      ],
      "metadata": {
        "id": "dfJvO1evUv4o"
      },
      "execution_count": 5,
      "outputs": []
    },
    {
      "cell_type": "code",
      "source": [
        "print([(x.__name__,x.__version__) for x in [np, pd, pyspark]])\n",
        "\n",
        "spark = pyspark.sql.SparkSession.builder.appName('BOSTON').getOrCreate()\n",
        "sc = spark.sparkContext\n",
        "sqlContext = SQLContext(sc)\n",
        "sc.setLogLevel(\"INFO\")"
      ],
      "metadata": {
        "colab": {
          "base_uri": "https://localhost:8080/"
        },
        "id": "bFi4RwOzUxzT",
        "outputId": "185660f0-1ea7-4551-b5be-b4ad470aa880"
      },
      "execution_count": 6,
      "outputs": [
        {
          "output_type": "stream",
          "name": "stdout",
          "text": [
            "[('numpy', '1.21.6'), ('pandas', '1.3.5'), ('pyspark', '3.2.1')]\n"
          ]
        },
        {
          "output_type": "stream",
          "name": "stderr",
          "text": [
            "/usr/local/lib/python3.7/dist-packages/pyspark/sql/context.py:79: FutureWarning: Deprecated in 3.0.0. Use SparkSession.builder.getOrCreate() instead.\n",
            "  FutureWarning\n"
          ]
        }
      ]
    },
    {
      "cell_type": "code",
      "source": [
        "appName= \"boston_hive_pyspark\"\n",
        "master= \"local\"\n",
        "spark = SparkSession.builder \\\n",
        "\t.master(master).appName(appName).enableHiveSupport().getOrCreate()"
      ],
      "metadata": {
        "id": "ssmpJJvoVLAs"
      },
      "execution_count": 8,
      "outputs": []
    },
    {
      "cell_type": "code",
      "source": [
        "from pyspark.ml.feature import (VectorAssembler, VectorIndexer,\n",
        "                               OneHotEncoder, StringIndexer)\n"
      ],
      "metadata": {
        "id": "YStHjnVMVULw"
      },
      "execution_count": 9,
      "outputs": []
    },
    {
      "cell_type": "markdown",
      "source": [
        "## Q.1 Read the given CSV file in a Hive table"
      ],
      "metadata": {
        "id": "tobgOOriYX85"
      }
    },
    {
      "cell_type": "code",
      "source": [
        "df = spark.read.csv('/content/boston.csv',header=True,inferSchema=True)\n",
        "print(df.count())\n",
        "df.show()\n",
        "df.write.saveAsTable(\"boston_tb\")"
      ],
      "metadata": {
        "colab": {
          "base_uri": "https://localhost:8080/"
        },
        "id": "5DDZTWwBVXYI",
        "outputId": "52b5c58e-6885-49c7-e53e-58b9d934b77a"
      },
      "execution_count": 11,
      "outputs": [
        {
          "output_type": "stream",
          "name": "stdout",
          "text": [
            "506\n",
            "+-----------+----+-----------+----+-----------+-----------+-----------+-----------+---+---+-----------+-----------+-----------+-----------+\n",
            "|       CRIM|  ZN|      INDUS|CHAS|        NOX|         RM|        AGE|        DIS|RAD|TAX|         PT|          B|      LSTAT|         MV|\n",
            "+-----------+----+-----------+----+-----------+-----------+-----------+-----------+---+---+-----------+-----------+-----------+-----------+\n",
            "|    0.00632|18.0|2.309999943|   0|0.537999988|6.574999809|65.19999695|4.090000153|  1|296|15.30000019|396.8999939|4.980000019|       24.0|\n",
            "|0.027310001| 0.0|7.070000172|   0|0.469000012|6.421000004|78.90000153|4.967100143|  2|242|17.79999924|396.8999939|9.140000343|21.60000038|\n",
            "|    0.02729| 0.0|7.070000172|   0|0.469000012|7.184999943|61.09999847|4.967100143|  2|242|17.79999924|392.8299866| 4.03000021|34.70000076|\n",
            "|0.032370001| 0.0|2.180000067|   0|0.458000004|6.998000145|45.79999924|6.062200069|  3|222|18.70000076|394.6300049|2.940000057|33.40000153|\n",
            "|0.069049999| 0.0|2.180000067|   0|0.458000004|7.146999836|54.20000076|6.062200069|  3|222|18.70000076|396.8999939|5.329999924|36.20000076|\n",
            "|0.029850001| 0.0|2.180000067|   0|0.458000004|6.429999828|58.70000076|6.062200069|  3|222|18.70000076|394.1199951|5.210000038|28.70000076|\n",
            "|0.088289998|12.5|7.869999886|   0|0.523999989|6.012000084|66.59999847|5.560500145|  5|311|15.19999981|395.6000061|12.43000031|22.89999962|\n",
            "|0.144549996|12.5|7.869999886|   0|0.523999989|6.171999931|96.09999847|5.950500011|  5|311|15.19999981|396.8999939|19.14999962|27.10000038|\n",
            "|0.211239994|12.5|7.869999886|   0|0.523999989|5.631000042|      100.0|6.082099915|  5|311|15.19999981|386.6300049|29.93000031|       16.5|\n",
            "|0.170039997|12.5|7.869999886|   0|0.523999989|6.004000187|85.90000153|6.592100143|  5|311|15.19999981|386.7099915|17.10000038|18.89999962|\n",
            "|0.224889994|12.5|7.869999886|   0|0.523999989|6.376999855|94.30000305|6.346700191|  5|311|15.19999981| 392.519989|20.45000076|       15.0|\n",
            "|0.117470004|12.5|7.869999886|   0|0.523999989|6.008999825|82.90000153|6.226699829|  5|311|15.19999981|396.8999939|13.27000046|18.89999962|\n",
            "|0.093780003|12.5|7.869999886|   0|0.523999989|5.888999939|       39.0|5.450900078|  5|311|15.19999981|      390.5|15.71000004|21.70000076|\n",
            "|0.629760027| 0.0|8.140000343|   0|0.537999988|5.948999882|61.79999924|4.707499981|  4|307|       21.0|396.8999939|8.260000229|20.39999962|\n",
            "|0.637960017| 0.0|8.140000343|   0|0.537999988|6.096000195|       84.5|4.461900234|  4|307|       21.0| 380.019989|10.26000023|18.20000076|\n",
            "|0.627390027| 0.0|8.140000343|   0|0.537999988|5.834000111|       56.5|4.498600006|  4|307|       21.0|395.6199951|8.470000267|19.89999962|\n",
            "|1.053930044| 0.0|8.140000343|   0|0.537999988|5.934999943|29.29999924|4.498600006|  4|307|       21.0|386.8500061|6.579999924|23.10000038|\n",
            "|0.784200013| 0.0|8.140000343|   0|0.537999988|5.989999771|81.69999695|4.257900238|  4|307|       21.0|     386.75|14.67000008|       17.5|\n",
            "|0.802709997| 0.0|8.140000343|   0|0.537999988|5.455999851|36.59999847|3.796499968|  4|307|       21.0|288.9899902|11.68999958|20.20000076|\n",
            "|0.725799978| 0.0|8.140000343|   0|0.537999988|5.727000237|       69.5|3.796499968|  4|307|       21.0|390.9500122|11.27999973|18.20000076|\n",
            "+-----------+----+-----------+----+-----------+-----------+-----------+-----------+---+---+-----------+-----------+-----------+-----------+\n",
            "only showing top 20 rows\n",
            "\n"
          ]
        }
      ]
    },
    {
      "cell_type": "markdown",
      "source": [
        "##  Q.2 Read the data from Hive table as spark dataframe"
      ],
      "metadata": {
        "id": "M2PXkxPRYaXQ"
      }
    },
    {
      "cell_type": "code",
      "source": [
        "df1=spark.sql(\"select * from boston_tb\")"
      ],
      "metadata": {
        "id": "EJNNuyQsVZAq"
      },
      "execution_count": 12,
      "outputs": []
    },
    {
      "cell_type": "code",
      "source": [
        "df.show()"
      ],
      "metadata": {
        "colab": {
          "base_uri": "https://localhost:8080/"
        },
        "id": "jR5faAC1VpD-",
        "outputId": "809e8541-d65a-4ebf-bd13-0b663ee4e9cf"
      },
      "execution_count": 13,
      "outputs": [
        {
          "output_type": "stream",
          "name": "stdout",
          "text": [
            "+-----------+----+-----------+----+-----------+-----------+-----------+-----------+---+---+-----------+-----------+-----------+-----------+\n",
            "|       CRIM|  ZN|      INDUS|CHAS|        NOX|         RM|        AGE|        DIS|RAD|TAX|         PT|          B|      LSTAT|         MV|\n",
            "+-----------+----+-----------+----+-----------+-----------+-----------+-----------+---+---+-----------+-----------+-----------+-----------+\n",
            "|    0.00632|18.0|2.309999943|   0|0.537999988|6.574999809|65.19999695|4.090000153|  1|296|15.30000019|396.8999939|4.980000019|       24.0|\n",
            "|0.027310001| 0.0|7.070000172|   0|0.469000012|6.421000004|78.90000153|4.967100143|  2|242|17.79999924|396.8999939|9.140000343|21.60000038|\n",
            "|    0.02729| 0.0|7.070000172|   0|0.469000012|7.184999943|61.09999847|4.967100143|  2|242|17.79999924|392.8299866| 4.03000021|34.70000076|\n",
            "|0.032370001| 0.0|2.180000067|   0|0.458000004|6.998000145|45.79999924|6.062200069|  3|222|18.70000076|394.6300049|2.940000057|33.40000153|\n",
            "|0.069049999| 0.0|2.180000067|   0|0.458000004|7.146999836|54.20000076|6.062200069|  3|222|18.70000076|396.8999939|5.329999924|36.20000076|\n",
            "|0.029850001| 0.0|2.180000067|   0|0.458000004|6.429999828|58.70000076|6.062200069|  3|222|18.70000076|394.1199951|5.210000038|28.70000076|\n",
            "|0.088289998|12.5|7.869999886|   0|0.523999989|6.012000084|66.59999847|5.560500145|  5|311|15.19999981|395.6000061|12.43000031|22.89999962|\n",
            "|0.144549996|12.5|7.869999886|   0|0.523999989|6.171999931|96.09999847|5.950500011|  5|311|15.19999981|396.8999939|19.14999962|27.10000038|\n",
            "|0.211239994|12.5|7.869999886|   0|0.523999989|5.631000042|      100.0|6.082099915|  5|311|15.19999981|386.6300049|29.93000031|       16.5|\n",
            "|0.170039997|12.5|7.869999886|   0|0.523999989|6.004000187|85.90000153|6.592100143|  5|311|15.19999981|386.7099915|17.10000038|18.89999962|\n",
            "|0.224889994|12.5|7.869999886|   0|0.523999989|6.376999855|94.30000305|6.346700191|  5|311|15.19999981| 392.519989|20.45000076|       15.0|\n",
            "|0.117470004|12.5|7.869999886|   0|0.523999989|6.008999825|82.90000153|6.226699829|  5|311|15.19999981|396.8999939|13.27000046|18.89999962|\n",
            "|0.093780003|12.5|7.869999886|   0|0.523999989|5.888999939|       39.0|5.450900078|  5|311|15.19999981|      390.5|15.71000004|21.70000076|\n",
            "|0.629760027| 0.0|8.140000343|   0|0.537999988|5.948999882|61.79999924|4.707499981|  4|307|       21.0|396.8999939|8.260000229|20.39999962|\n",
            "|0.637960017| 0.0|8.140000343|   0|0.537999988|6.096000195|       84.5|4.461900234|  4|307|       21.0| 380.019989|10.26000023|18.20000076|\n",
            "|0.627390027| 0.0|8.140000343|   0|0.537999988|5.834000111|       56.5|4.498600006|  4|307|       21.0|395.6199951|8.470000267|19.89999962|\n",
            "|1.053930044| 0.0|8.140000343|   0|0.537999988|5.934999943|29.29999924|4.498600006|  4|307|       21.0|386.8500061|6.579999924|23.10000038|\n",
            "|0.784200013| 0.0|8.140000343|   0|0.537999988|5.989999771|81.69999695|4.257900238|  4|307|       21.0|     386.75|14.67000008|       17.5|\n",
            "|0.802709997| 0.0|8.140000343|   0|0.537999988|5.455999851|36.59999847|3.796499968|  4|307|       21.0|288.9899902|11.68999958|20.20000076|\n",
            "|0.725799978| 0.0|8.140000343|   0|0.537999988|5.727000237|       69.5|3.796499968|  4|307|       21.0|390.9500122|11.27999973|18.20000076|\n",
            "+-----------+----+-----------+----+-----------+-----------+-----------+-----------+---+---+-----------+-----------+-----------+-----------+\n",
            "only showing top 20 rows\n",
            "\n"
          ]
        }
      ]
    },
    {
      "cell_type": "markdown",
      "source": [
        "### PRINT THE SCHEMA"
      ],
      "metadata": {
        "id": "YosPSvpQYlsl"
      }
    },
    {
      "cell_type": "code",
      "source": [
        "df.printSchema()"
      ],
      "metadata": {
        "colab": {
          "base_uri": "https://localhost:8080/"
        },
        "id": "TMksuTpiVwtW",
        "outputId": "ddf920ef-ff35-4948-bde2-5d154b3b4531"
      },
      "execution_count": 14,
      "outputs": [
        {
          "output_type": "stream",
          "name": "stdout",
          "text": [
            "root\n",
            " |-- CRIM: double (nullable = true)\n",
            " |-- ZN: double (nullable = true)\n",
            " |-- INDUS: double (nullable = true)\n",
            " |-- CHAS: integer (nullable = true)\n",
            " |-- NOX: double (nullable = true)\n",
            " |-- RM: double (nullable = true)\n",
            " |-- AGE: double (nullable = true)\n",
            " |-- DIS: double (nullable = true)\n",
            " |-- RAD: integer (nullable = true)\n",
            " |-- TAX: integer (nullable = true)\n",
            " |-- PT: double (nullable = true)\n",
            " |-- B: double (nullable = true)\n",
            " |-- LSTAT: double (nullable = true)\n",
            " |-- MV: double (nullable = true)\n",
            "\n"
          ]
        }
      ]
    },
    {
      "cell_type": "markdown",
      "source": [
        "### CHECKING FOR MISSING VALUES"
      ],
      "metadata": {
        "id": "VJ0sPHr2Yoyw"
      }
    },
    {
      "cell_type": "code",
      "source": [
        "from pyspark.sql.functions import col,sum\n",
        "df.select(*(sum(col(c).isNull().cast(\"int\")).alias(c) for c in df.columns)).show()"
      ],
      "metadata": {
        "colab": {
          "base_uri": "https://localhost:8080/"
        },
        "id": "yflheIzCV0Dz",
        "outputId": "72374135-3f85-4dfe-d57c-4c1b9892cc9d"
      },
      "execution_count": 15,
      "outputs": [
        {
          "output_type": "stream",
          "name": "stdout",
          "text": [
            "+----+---+-----+----+---+---+---+---+---+---+---+---+-----+---+\n",
            "|CRIM| ZN|INDUS|CHAS|NOX| RM|AGE|DIS|RAD|TAX| PT|  B|LSTAT| MV|\n",
            "+----+---+-----+----+---+---+---+---+---+---+---+---+-----+---+\n",
            "|   0|  0|    0|   0|  0|  0|  0|  0|  0|  0|  0|  0|    0|  0|\n",
            "+----+---+-----+----+---+---+---+---+---+---+---+---+-----+---+\n",
            "\n"
          ]
        }
      ]
    },
    {
      "cell_type": "code",
      "source": [
        "print(df.columns)"
      ],
      "metadata": {
        "colab": {
          "base_uri": "https://localhost:8080/"
        },
        "id": "3Cj3sZWoV2CI",
        "outputId": "f7af389a-9b17-4345-f239-ad422e20bb41"
      },
      "execution_count": 16,
      "outputs": [
        {
          "output_type": "stream",
          "name": "stdout",
          "text": [
            "['CRIM', 'ZN', 'INDUS', 'CHAS', 'NOX', 'RM', 'AGE', 'DIS', 'RAD', 'TAX', 'PT', 'B', 'LSTAT', 'MV']\n"
          ]
        }
      ]
    },
    {
      "cell_type": "markdown",
      "source": [
        "## Q3. Get the correlation between dependent and independent variables"
      ],
      "metadata": {
        "id": "3HX_EijCYr3D"
      }
    },
    {
      "cell_type": "code",
      "source": [
        "import six\n",
        "for i in df.columns:\n",
        "    if not( isinstance(df.select(i).take(1)[0][0], six.string_types)):\n",
        "        print( \"Correlation to MV for \", i, df.stat.corr('MV',i))"
      ],
      "metadata": {
        "colab": {
          "base_uri": "https://localhost:8080/"
        },
        "id": "QF0-52m6V3nb",
        "outputId": "df0bc24f-688c-48a7-a592-12567c088c81"
      },
      "execution_count": 19,
      "outputs": [
        {
          "output_type": "stream",
          "name": "stdout",
          "text": [
            "Correlation to MV for  CRIM -0.3883046116575088\n",
            "Correlation to MV for  ZN 0.36044534463752903\n",
            "Correlation to MV for  INDUS -0.48372517128143383\n",
            "Correlation to MV for  CHAS 0.17526017775291847\n",
            "Correlation to MV for  NOX -0.4273207763683772\n",
            "Correlation to MV for  RM 0.695359937127267\n",
            "Correlation to MV for  AGE -0.37695456714288667\n",
            "Correlation to MV for  DIS 0.24992873873512172\n",
            "Correlation to MV for  RAD -0.3816262315669168\n",
            "Correlation to MV for  TAX -0.46853593528654536\n",
            "Correlation to MV for  PT -0.5077867038116085\n",
            "Correlation to MV for  B 0.3334608226834164\n",
            "Correlation to MV for  LSTAT -0.7376627294671615\n",
            "Correlation to MV for  MV 1.0\n"
          ]
        }
      ]
    },
    {
      "cell_type": "code",
      "source": [
        "# Creating correlation matrix\n",
        "from pyspark.ml.stat import Correlation\n",
        "vector_col = \"corr_features\"\n",
        "assembler = VectorAssembler(inputCols=df.columns, outputCol=vector_col)\n",
        "df_vector = assembler.transform(df).select(vector_col)\n",
        "matrix = Correlation.corr(df_vector, vector_col)"
      ],
      "metadata": {
        "colab": {
          "base_uri": "https://localhost:8080/"
        },
        "id": "lut6q2ZtV5jF",
        "outputId": "9ed29da4-14c4-425a-aa58-6aedc7d2bbf8"
      },
      "execution_count": 22,
      "outputs": [
        {
          "output_type": "stream",
          "name": "stderr",
          "text": [
            "/usr/local/lib/python3.7/dist-packages/pyspark/sql/context.py:127: FutureWarning: Deprecated in 3.0.0. Use SparkSession.builder.getOrCreate() instead.\n",
            "  FutureWarning\n"
          ]
        }
      ]
    },
    {
      "cell_type": "code",
      "source": [
        "# Printing correlation matrix\n",
        "matrix.collect()[0][\"pearson({})\".format(vector_col)].values"
      ],
      "metadata": {
        "colab": {
          "base_uri": "https://localhost:8080/"
        },
        "id": "uU0r8qqWWIP-",
        "outputId": "5c0ab202-b492-4f11-aa81-2c61191c1e2b"
      },
      "execution_count": 23,
      "outputs": [
        {
          "output_type": "execute_result",
          "data": {
            "text/plain": [
              "array([ 1.        , -0.20046922,  0.40658343, -0.05589158,  0.42097173,\n",
              "       -0.2192467 ,  0.35273425, -0.37967009,  0.62550515,  0.58276431,\n",
              "        0.28994564, -0.38506395,  0.45562148, -0.38830461, -0.20046922,\n",
              "        1.        , -0.53382819, -0.04269672, -0.51660371,  0.31199059,\n",
              "       -0.56953734,  0.66440822, -0.31194783, -0.31456332, -0.39167853,\n",
              "        0.17552031, -0.41299458,  0.36044534,  0.40658343, -0.53382819,\n",
              "        1.        ,  0.06293803,  0.76365146, -0.39167586,  0.64477851,\n",
              "       -0.70802699,  0.5951293 ,  0.7207602 ,  0.38324764, -0.35697654,\n",
              "        0.60379972, -0.48372517, -0.05589158, -0.04269672,  0.06293803,\n",
              "        1.        ,  0.0912028 ,  0.09125123,  0.08651777, -0.09917578,\n",
              "       -0.00736824, -0.03558652, -0.12151517,  0.04878849, -0.0539293 ,\n",
              "        0.17526018,  0.42097173, -0.51660371,  0.76365146,  0.0912028 ,\n",
              "        1.        , -0.30218816,  0.73147011, -0.76923012,  0.61144056,\n",
              "        0.66802321,  0.18893272, -0.38005064,  0.59087892, -0.42732078,\n",
              "       -0.2192467 ,  0.31199059, -0.39167586,  0.09125123, -0.30218816,\n",
              "        1.        , -0.24026491,  0.2052462 , -0.20984667, -0.29204784,\n",
              "       -0.3555015 ,  0.12806863, -0.61380826,  0.69535994,  0.35273425,\n",
              "       -0.56953734,  0.64477851,  0.08651777,  0.73147011, -0.24026491,\n",
              "        1.        , -0.74788054,  0.45602245,  0.5064556 ,  0.26151502,\n",
              "       -0.27353397,  0.60233853, -0.37695457, -0.37967009,  0.66440822,\n",
              "       -0.70802699, -0.09917578, -0.76923012,  0.2052462 , -0.74788054,\n",
              "        1.        , -0.49458793, -0.53443158, -0.23247057,  0.29151167,\n",
              "       -0.49699583,  0.24992874,  0.62550515, -0.31194783,  0.5951293 ,\n",
              "       -0.00736824,  0.61144056, -0.20984667,  0.45602245, -0.49458793,\n",
              "        1.        ,  0.91022819,  0.46474127, -0.44441282,  0.48867634,\n",
              "       -0.38162623,  0.58276431, -0.31456332,  0.7207602 , -0.03558652,\n",
              "        0.66802321, -0.29204784,  0.5064556 , -0.53443158,  0.91022819,\n",
              "        1.        ,  0.46085312, -0.44180801,  0.54399341, -0.46853594,\n",
              "        0.28994564, -0.39167853,  0.38324764, -0.12151517,  0.18893272,\n",
              "       -0.3555015 ,  0.26151502, -0.23247057,  0.46474127,  0.46085312,\n",
              "        1.        , -0.17738334,  0.37404435, -0.5077867 , -0.38506395,\n",
              "        0.17552031, -0.35697654,  0.04878849, -0.38005064,  0.12806863,\n",
              "       -0.27353397,  0.29151167, -0.44441282, -0.44180801, -0.17738334,\n",
              "        1.        , -0.3660869 ,  0.33346082,  0.45562148, -0.41299458,\n",
              "        0.60379972, -0.0539293 ,  0.59087892, -0.61380826,  0.60233853,\n",
              "       -0.49699583,  0.48867634,  0.54399341,  0.37404435, -0.3660869 ,\n",
              "        1.        , -0.73766273, -0.38830461,  0.36044534, -0.48372517,\n",
              "        0.17526018, -0.42732078,  0.69535994, -0.37695457,  0.24992874,\n",
              "       -0.38162623, -0.46853594, -0.5077867 ,  0.33346082, -0.73766273,\n",
              "        1.        ])"
            ]
          },
          "metadata": {},
          "execution_count": 23
        }
      ]
    },
    {
      "cell_type": "code",
      "source": [
        "from pyspark.ml.feature import VectorAssembler\n",
        "vectorAssembler = VectorAssembler(inputCols = ['CRIM', 'ZN', 'INDUS', 'CHAS', 'NOX', 'RM', 'AGE', 'DIS', 'RAD', 'TAX', 'PT', 'B', 'LSTAT'], outputCol = 'features')\n",
        "df2 = vectorAssembler.transform(df)\n",
        "df2 = df2.select(['features', 'MV'])\n",
        "df2.show(5)"
      ],
      "metadata": {
        "colab": {
          "base_uri": "https://localhost:8080/"
        },
        "id": "-BVqftGgWYt0",
        "outputId": "7a82639d-8bc4-4e14-a640-c97cdcdf3a17"
      },
      "execution_count": 24,
      "outputs": [
        {
          "output_type": "stream",
          "name": "stdout",
          "text": [
            "+--------------------+-----------+\n",
            "|            features|         MV|\n",
            "+--------------------+-----------+\n",
            "|[0.00632,18.0,2.3...|       24.0|\n",
            "|[0.027310001,0.0,...|21.60000038|\n",
            "|[0.02729,0.0,7.07...|34.70000076|\n",
            "|[0.032370001,0.0,...|33.40000153|\n",
            "|[0.069049999,0.0,...|36.20000076|\n",
            "+--------------------+-----------+\n",
            "only showing top 5 rows\n",
            "\n"
          ]
        }
      ]
    },
    {
      "cell_type": "markdown",
      "source": [
        "### SPLITTING THE DATA "
      ],
      "metadata": {
        "id": "0LTUPafUY0qC"
      }
    },
    {
      "cell_type": "code",
      "source": [
        "splits = df2.randomSplit([0.7, 0.3])\n",
        "train_df = splits[0]\n",
        "test_df = splits[1]"
      ],
      "metadata": {
        "id": "zZdyBV1lWdre"
      },
      "execution_count": 25,
      "outputs": []
    },
    {
      "cell_type": "markdown",
      "source": [
        "## Q4. Build a linear regression model to predict house price"
      ],
      "metadata": {
        "id": "x67KxhfNY5Hd"
      }
    },
    {
      "cell_type": "code",
      "source": [
        "\n",
        "from pyspark.ml.regression import LinearRegression\n",
        "lr = LinearRegression(featuresCol = 'features', labelCol='MV', maxIter=10, regParam=0.3, elasticNetParam=0.8)\n",
        "lr_model = lr.fit(train_df)\n",
        "print(\"Coefficients: \" + str(lr_model.coefficients))\n",
        "print(\"Intercept: \" + str(lr_model.intercept))"
      ],
      "metadata": {
        "colab": {
          "base_uri": "https://localhost:8080/"
        },
        "id": "P4YS5miVWgCY",
        "outputId": "cfea534a-d3de-4ced-a1e0-c6d3e9f77a20"
      },
      "execution_count": 26,
      "outputs": [
        {
          "output_type": "stream",
          "name": "stdout",
          "text": [
            "Coefficients: [-0.06380798758521199,0.015051712074533218,0.0,1.0734481926495187,-6.907659781462847,5.264771622660271,-0.0016028877107280137,-0.519298700938574,0.0,-0.002153312116481696,-0.7955418052727771,0.0057563377948915,-0.3810391070951662]\n",
            "Intercept: 13.480804950666327\n"
          ]
        }
      ]
    },
    {
      "cell_type": "markdown",
      "source": [
        "## Q5. Evaluate the Linear Regression model by getting the RMSE and R-squared values"
      ],
      "metadata": {
        "id": "OIOWZJdZY9ko"
      }
    },
    {
      "cell_type": "code",
      "source": [
        "trainingSummary = lr_model.summary\n",
        "print(\"RMSE: %f\" % trainingSummary.rootMeanSquaredError)\n",
        "print(\"r2: %f\" % trainingSummary.r2)"
      ],
      "metadata": {
        "colab": {
          "base_uri": "https://localhost:8080/"
        },
        "id": "aan6XsYLWlXb",
        "outputId": "55783b67-41fc-437a-c253-4b7164ac6eed"
      },
      "execution_count": 27,
      "outputs": [
        {
          "output_type": "stream",
          "name": "stdout",
          "text": [
            "RMSE: 4.283744\n",
            "r2: 0.771884\n"
          ]
        }
      ]
    },
    {
      "cell_type": "code",
      "source": [
        "lr_predictions = lr_model.transform(test_df)\n",
        "lr_predictions.select(\"prediction\",\"MV\",\"features\").show(5)\n",
        "from pyspark.ml.evaluation import RegressionEvaluator\n",
        "lr_evaluator = RegressionEvaluator(predictionCol=\"prediction\", \\\n",
        "                 labelCol=\"MV\",metricName=\"r2\")\n",
        "print(\"R Squared (R2) on test data = %g\" % lr_evaluator.evaluate(lr_predictions))"
      ],
      "metadata": {
        "colab": {
          "base_uri": "https://localhost:8080/"
        },
        "id": "6erQfqDsWnBp",
        "outputId": "2a317caa-9bb2-41f2-d08b-1e4dc510e42f"
      },
      "execution_count": 31,
      "outputs": [
        {
          "output_type": "stream",
          "name": "stdout",
          "text": [
            "+------------------+-----------+--------------------+\n",
            "|        prediction|         MV|            features|\n",
            "+------------------+-----------+--------------------+\n",
            "| 31.81995659667394|32.90000153|[0.01778,95.0,1.4...|\n",
            "| 26.46364203550829|23.10000038|[0.0187,85.0,4.15...|\n",
            "|27.318877934302243|       33.0|[0.019509999,17.5...|\n",
            "| 37.28534019463267|42.29999924|[0.02177,82.5,2.0...|\n",
            "|31.433339186432768|34.70000076|[0.02729,0.0,7.07...|\n",
            "+------------------+-----------+--------------------+\n",
            "only showing top 5 rows\n",
            "\n",
            "R Squared (R2) on test data = 0.569139\n"
          ]
        }
      ]
    },
    {
      "cell_type": "code",
      "source": [
        "test_result = lr_model.evaluate(test_df)\n",
        "print(\"RMSE on test data = %g\" % test_result.rootMeanSquaredError)"
      ],
      "metadata": {
        "colab": {
          "base_uri": "https://localhost:8080/"
        },
        "id": "dHu8hjt9Wtxs",
        "outputId": "80a12c44-b588-469c-f322-0f8d9c50c0cb"
      },
      "execution_count": 29,
      "outputs": [
        {
          "output_type": "stream",
          "name": "stdout",
          "text": [
            "RMSE on test data = 6.36461\n"
          ]
        }
      ]
    },
    {
      "cell_type": "code",
      "source": [
        "predictions = lr_model.transform(test_df)\n",
        "predictions.select(\"prediction\",\"MV\",\"features\").show()"
      ],
      "metadata": {
        "colab": {
          "base_uri": "https://localhost:8080/"
        },
        "id": "dUN3SVeEWwKe",
        "outputId": "feadf796-83f8-44a6-93a3-79877fbd124e"
      },
      "execution_count": 30,
      "outputs": [
        {
          "output_type": "stream",
          "name": "stdout",
          "text": [
            "+------------------+-----------+--------------------+\n",
            "|        prediction|         MV|            features|\n",
            "+------------------+-----------+--------------------+\n",
            "| 31.81995659667394|32.90000153|[0.01778,95.0,1.4...|\n",
            "| 26.46364203550829|23.10000038|[0.0187,85.0,4.15...|\n",
            "|27.318877934302243|       33.0|[0.019509999,17.5...|\n",
            "| 37.28534019463267|42.29999924|[0.02177,82.5,2.0...|\n",
            "|31.433339186432768|34.70000076|[0.02729,0.0,7.07...|\n",
            "|  26.6351172340554|26.60000038|[0.02899,40.0,1.2...|\n",
            "| 29.42935621711289|31.20000076|[0.03049,55.0,3.7...|\n",
            "| 31.00508748038974|34.90000153|[0.031500001,95.0...|\n",
            "| 27.96939977049282|24.10000038|[0.034449998,82.5...|\n",
            "| 30.47730670977407|       28.5|[0.035020001,80.0...|\n",
            "|  27.9190820801373|       22.0|[0.03537,34.0,6.0...|\n",
            "|24.167260198926222|22.89999962|[0.03551,25.0,4.8...|\n",
            "|28.746262102743863|27.89999962|[0.036150001,80.0...|\n",
            "|26.037088806268564|23.20000076|[0.038710002,52.5...|\n",
            "| 26.72473969886656|22.89999962|[0.042029999,28.0...|\n",
            "| 26.87653228798501|24.79999924|[0.042970002,52.5...|\n",
            "| 17.02652806098974|18.20000076|[0.04301,80.0,1.9...|\n",
            "|21.960014984177967|20.60000038|[0.04527,0.0,11.9...|\n",
            "|25.324908419311967|21.89999962|[0.048190001,80.0...|\n",
            "| 27.85169838691084|       25.0|[0.053599998,21.0...|\n",
            "+------------------+-----------+--------------------+\n",
            "only showing top 20 rows\n",
            "\n"
          ]
        }
      ]
    },
    {
      "cell_type": "markdown",
      "source": [
        "### COMPLETED"
      ],
      "metadata": {
        "id": "lb0bg5eOWyDZ"
      }
    }
  ]
}